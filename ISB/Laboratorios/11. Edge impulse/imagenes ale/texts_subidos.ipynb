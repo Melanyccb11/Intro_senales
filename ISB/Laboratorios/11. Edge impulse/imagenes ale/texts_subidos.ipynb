{
  "nbformat": 4,
  "nbformat_minor": 0,
  "metadata": {
    "colab": {
      "provenance": []
    },
    "kernelspec": {
      "name": "python3",
      "display_name": "Python 3"
    },
    "language_info": {
      "name": "python"
    }
  },
  "cells": [
    {
      "cell_type": "code",
      "execution_count": 1,
      "metadata": {
        "colab": {
          "base_uri": "https://localhost:8080/"
        },
        "id": "L_7xofXmSugz",
        "outputId": "e04edb8c-3861-4a67-db42-64521833b9be"
      },
      "outputs": [
        {
          "output_type": "stream",
          "name": "stdout",
          "text": [
            "Requirement already satisfied: requests in /usr/local/lib/python3.10/dist-packages (2.31.0)\n",
            "Requirement already satisfied: charset-normalizer<4,>=2 in /usr/local/lib/python3.10/dist-packages (from requests) (3.3.2)\n",
            "Requirement already satisfied: idna<4,>=2.5 in /usr/local/lib/python3.10/dist-packages (from requests) (3.7)\n",
            "Requirement already satisfied: urllib3<3,>=1.21.1 in /usr/local/lib/python3.10/dist-packages (from requests) (2.0.7)\n",
            "Requirement already satisfied: certifi>=2017.4.17 in /usr/local/lib/python3.10/dist-packages (from requests) (2024.6.2)\n",
            "Uploaded file(s) to Edge Impulse\n",
            " 200 b'{\"success\":true,\"files\":[{\"success\":true,\"projectId\":431079,\"sampleId\":1059395751,\"fileName\":\"EMG_Reposo.csv.50rcihjj.json\"}]}'\n"
          ]
        }
      ],
      "source": [
        "# Install requests via: `pip3 install requests`\n",
        "!pip install requests\n",
        "import requests\n",
        "import requests\n",
        "import os\n",
        "\n",
        "api_key = 'ei_0cfb803fc6f1f1ae1c53a89da649d257d57fee4b133b0eedfef9b666f5b23356\t'\n",
        "# Add the files you want to upload to Edge Impulse\n",
        "files = [\n",
        "    '/content/EMG_Reposo.csv',\n",
        "]\n",
        "# # Replace the label with your own.\n",
        "label = 'EMG señal en reposo'\n",
        "# Upload the file to Edge Impulse using the API, and print the response.\n",
        "res = requests.post(url='https://ingestion.edgeimpulse.com/api/training/files',\n",
        "                    headers={\n",
        "                        'x-label': label,\n",
        "                        'x-api-key': api_key,\n",
        "                    },\n",
        "                    # Creating the data payload for the request.\n",
        "                    files=(('data', (os.path.basename(i), open(\n",
        "                        i, 'rb'), 'application/csv')) for i in files)\n",
        "                    )\n",
        "\n",
        "if (res.status_code == 200):\n",
        "    print('Uploaded file(s) to Edge Impulse\\n', res.status_code, res.content)\n",
        "else:\n",
        "    print('Failed to upload file(s) to Edge Impulse\\n',\n",
        "          res.status_code, res.content)"
      ]
    },
    {
      "cell_type": "code",
      "source": [
        "api_key = 'ei_0cfb803fc6f1f1ae1c53a89da649d257d57fee4b133b0eedfef9b666f5b23356\t'\n",
        "# Add the files you want to upload to Edge Impulse\n",
        "files = [\n",
        "    '/content/EMG_Oposición.csv',\n",
        "]\n",
        "# # Replace the label with your own.\n",
        "label = 'EMG En contraccion'\n",
        "# Upload the file to Edge Impulse using the API, and print the response.\n",
        "res = requests.post(url='https://ingestion.edgeimpulse.com/api/training/files',\n",
        "                    headers={\n",
        "                        'x-label': label,\n",
        "                        'x-api-key': api_key,\n",
        "                    },\n",
        "                    # Creating the data payload for the request.\n",
        "                    files=(('data', (os.path.basename(i), open(\n",
        "                        i, 'rb'), 'application/csv')) for i in files)\n",
        "                    )\n",
        "\n",
        "if (res.status_code == 200):\n",
        "    print('Uploaded file(s) to Edge Impulse\\n', res.status_code, res.content)\n",
        "else:\n",
        "    print('Failed to upload file(s) to Edge Impulse\\n',\n",
        "          res.status_code, res.content)"
      ],
      "metadata": {
        "colab": {
          "base_uri": "https://localhost:8080/"
        },
        "id": "zt2_rzRjerRA",
        "outputId": "c7b563c8-20fd-42d3-dd96-67e7bcacb7d9"
      },
      "execution_count": 2,
      "outputs": [
        {
          "output_type": "stream",
          "name": "stdout",
          "text": [
            "Uploaded file(s) to Edge Impulse\n",
            " 200 b'{\"success\":true,\"files\":[{\"success\":true,\"projectId\":431079,\"sampleId\":1059395752,\"fileName\":\"EMG_Oposici\\xc3\\xb3n.csv.50rcikt3.json\"}]}'\n"
          ]
        }
      ]
    },
    {
      "cell_type": "markdown",
      "source": [
        "ECG"
      ],
      "metadata": {
        "id": "9NGMXorvWTXf"
      }
    },
    {
      "cell_type": "code",
      "source": [
        "\n",
        "api_key = 'ei_cd77094a3fe1e2be74678714095af376b9b558ce66c36923408885c1a3218d96'\n",
        "# Add the files you want to upload to Edge Impulse\n",
        "files = [\n",
        "    '/content/ECG_reposo.csv',\n",
        "]\n",
        "# # Replace the label with your own.\n",
        "label = 'ECGresposo'\n",
        "# Upload the file to Edge Impulse using the API, and print the response.\n",
        "res = requests.post(url='https://ingestion.edgeimpulse.com/api/training/files',\n",
        "                    headers={\n",
        "                        'x-label': label,\n",
        "                        'x-api-key': api_key,\n",
        "                    },\n",
        "                    # Creating the data payload for the request.\n",
        "                    files=(('data', (os.path.basename(i), open(\n",
        "                        i, 'rb'), 'application/csv')) for i in files)\n",
        "                    )\n",
        "\n",
        "if (res.status_code == 200):\n",
        "    print('Uploaded file(s) to Edge Impulse\\n', res.status_code, res.content)\n",
        "else:\n",
        "    print('Failed to upload file(s) to Edge Impulse\\n',\n",
        "          res.status_code, res.content)"
      ],
      "metadata": {
        "colab": {
          "base_uri": "https://localhost:8080/"
        },
        "id": "6_fCfhzJV5zq",
        "outputId": "f6025bff-7a8d-49cb-822f-e1f0c8237445"
      },
      "execution_count": null,
      "outputs": [
        {
          "output_type": "stream",
          "name": "stdout",
          "text": [
            "Uploaded file(s) to Edge Impulse\n",
            " 200 b'{\"success\":true,\"files\":[{\"success\":true,\"projectId\":431093,\"sampleId\":1058999996,\"fileName\":\"ECG_reposo.csv.50qcsv42.json\"}]}'\n"
          ]
        }
      ]
    },
    {
      "cell_type": "code",
      "source": [
        "api_key = 'ei_cd77094a3fe1e2be74678714095af376b9b558ce66c36923408885c1a3218d96'\n",
        "# Add the files you want to upload to Edge Impulse\n",
        "files = [\n",
        "    '/content/asistolia.csv',\n",
        "]\n",
        "# # Replace the label with your own.\n",
        "label = 'ECG_asistolia'\n",
        "# Upload the file to Edge Impulse using the API, and print the response.\n",
        "res = requests.post(url='https://ingestion.edgeimpulse.com/api/training/files',\n",
        "                    headers={\n",
        "                        'x-label': label,\n",
        "                        'x-api-key': api_key,\n",
        "                    },\n",
        "                    # Creating the data payload for the request.\n",
        "                    files=(('data', (os.path.basename(i), open(\n",
        "                        i, 'rb'), 'application/csv')) for i in files)\n",
        "                    )\n",
        "\n",
        "if (res.status_code == 200):\n",
        "    print('Uploaded file(s) to Edge Impulse\\n', res.status_code, res.content)\n",
        "else:\n",
        "    print('Failed to upload file(s) to Edge Impulse\\n',\n",
        "          res.status_code, res.content)"
      ],
      "metadata": {
        "colab": {
          "base_uri": "https://localhost:8080/"
        },
        "id": "bT6L8J7pg7_x",
        "outputId": "6a40357b-2696-46ea-ce8d-08f024f947e9"
      },
      "execution_count": null,
      "outputs": [
        {
          "output_type": "stream",
          "name": "stdout",
          "text": [
            "Uploaded file(s) to Edge Impulse\n",
            " 200 b'{\"success\":true,\"files\":[{\"success\":true,\"projectId\":431093,\"sampleId\":1058999999,\"fileName\":\"asistolia.csv.50qct3hj.json\"}]}'\n"
          ]
        }
      ]
    },
    {
      "cell_type": "markdown",
      "source": [
        "EEG"
      ],
      "metadata": {
        "id": "Y-vEPGyuahjN"
      }
    },
    {
      "cell_type": "code",
      "source": [
        "api_key = 'ei_6ba416ded2d70e1594f4ae03bb69752fa629f517ac9a1ccac5355c7f7746e227\t'\n",
        "# Add the files you want to upload to Edge Impulse\n",
        "files = [\n",
        "    '/content/EEG_PrimeroOsjoscerrados (1).csv',\n",
        "]\n",
        "# # Replace the label with your own.\n",
        "label = 'EEG reposo'\n",
        "# Upload the file to Edge Impulse using the API, and print the response.\n",
        "res = requests.post(url='https://ingestion.edgeimpulse.com/api/training/files',\n",
        "                    headers={\n",
        "                        'x-label': label,\n",
        "                        'x-api-key': api_key,\n",
        "                    },\n",
        "                    # Creating the data payload for the request.\n",
        "                    files=(('data', (os.path.basename(i), open(\n",
        "                        i, 'rb'), 'application/csv')) for i in files)\n",
        "                    )\n",
        "\n",
        "if (res.status_code == 200):\n",
        "    print('Uploaded file(s) to Edge Impulse\\n', res.status_code, res.content)\n",
        "else:\n",
        "    print('Failed to upload file(s) to Edge Impulse\\n',\n",
        "          res.status_code, res.content)"
      ],
      "metadata": {
        "colab": {
          "base_uri": "https://localhost:8080/"
        },
        "id": "KnIOIKXpZVyX",
        "outputId": "4a29c67d-436c-4140-edae-a82083a0c2a1"
      },
      "execution_count": null,
      "outputs": [
        {
          "output_type": "stream",
          "name": "stdout",
          "text": [
            "Uploaded file(s) to Edge Impulse\n",
            " 200 b'{\"success\":true,\"files\":[{\"success\":true,\"projectId\":431092,\"sampleId\":1059000161,\"fileName\":\"EEG_PrimeroOsjoscerrados (1).csv.50qd5cvq.json\"}]}'\n"
          ]
        }
      ]
    },
    {
      "cell_type": "code",
      "source": [
        "api_key = 'ei_6ba416ded2d70e1594f4ae03bb69752fa629f517ac9a1ccac5355c7f7746e227\t'\n",
        "# Add the files you want to upload to Edge Impulse\n",
        "files = [\n",
        "    '/content/ejmate (1).csv',\n",
        "]\n",
        "# # Replace the label with your own.\n",
        "label = 'EEG resolviendo matematica'\n",
        "# Upload the file to Edge Impulse using the API, and print the response.\n",
        "res = requests.post(url='https://ingestion.edgeimpulse.com/api/training/files',\n",
        "                    headers={\n",
        "                        'x-label': label,\n",
        "                        'x-api-key': api_key,\n",
        "                    },\n",
        "                    # Creating the data payload for the request.\n",
        "                    files=(('data', (os.path.basename(i), open(\n",
        "                        i, 'rb'), 'application/csv')) for i in files)\n",
        "                    )\n",
        "\n",
        "if (res.status_code == 200):\n",
        "    print('Uploaded file(s) to Edge Impulse\\n', res.status_code, res.content)\n",
        "else:\n",
        "    print('Failed to upload file(s) to Edge Impulse\\n',\n",
        "          res.status_code, res.content)"
      ],
      "metadata": {
        "colab": {
          "base_uri": "https://localhost:8080/"
        },
        "id": "m05RnGunX3W9",
        "outputId": "65361caf-f86f-4198-89fb-9d03b422284b"
      },
      "execution_count": null,
      "outputs": [
        {
          "output_type": "stream",
          "name": "stdout",
          "text": [
            "Uploaded file(s) to Edge Impulse\n",
            " 200 b'{\"success\":true,\"files\":[{\"success\":true,\"projectId\":431092,\"sampleId\":1059000165,\"fileName\":\"ejmate (1).csv.50qd69dv.json\"}]}'\n"
          ]
        }
      ]
    }
  ]
}